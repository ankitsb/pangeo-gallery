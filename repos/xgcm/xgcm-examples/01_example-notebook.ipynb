{
 "cells": [
  {
   "cell_type": "markdown",
   "metadata": {},
   "source": [
    "# Test Pangeo Gallery 1"
   ]
  },
  {
   "cell_type": "code",
   "execution_count": 1,
   "metadata": {
    "execution": {
     "iopub.execute_input": "2020-10-12T17:39:10.147806Z",
     "iopub.status.busy": "2020-10-12T17:39:10.147127Z",
     "iopub.status.idle": "2020-10-12T17:39:10.150411Z",
     "shell.execute_reply": "2020-10-12T17:39:10.150884Z"
    }
   },
   "outputs": [
    {
     "name": "stdout",
     "output_type": "stream",
     "text": [
      "Today's date and time: 2020-10-12 17:39:10.145730\n"
     ]
    }
   ],
   "source": [
    "from datetime import datetime\n",
    "now = datetime.today()\n",
    "print(\"Today's date and time:\", now)"
   ]
  },
  {
   "cell_type": "code",
   "execution_count": 2,
   "metadata": {
    "execution": {
     "iopub.execute_input": "2020-10-12T17:39:10.155449Z",
     "iopub.status.busy": "2020-10-12T17:39:10.154816Z",
     "iopub.status.idle": "2020-10-12T17:39:10.158456Z",
     "shell.execute_reply": "2020-10-12T17:39:10.157792Z"
    }
   },
   "outputs": [
    {
     "name": "stdout",
     "output_type": "stream",
     "text": [
      "jupyter-pangeo-2dgallery-2ddefault-2dbinder-2dvak5nxa8\n"
     ]
    }
   ],
   "source": [
    "import socket\n",
    "print(socket.gethostname())"
   ]
  },
  {
   "cell_type": "code",
   "execution_count": null,
   "metadata": {},
   "outputs": [],
   "source": []
  }
 ],
 "metadata": {
  "kernelspec": {
   "display_name": "Python 3",
   "language": "python",
   "name": "python3"
  },
  "language_info": {
   "codemirror_mode": {
    "name": "ipython",
    "version": 3
   },
   "file_extension": ".py",
   "mimetype": "text/x-python",
   "name": "python",
   "nbconvert_exporter": "python",
   "pygments_lexer": "ipython3",
   "version": "3.7.8"
  }
 },
 "nbformat": 4,
 "nbformat_minor": 4
}
